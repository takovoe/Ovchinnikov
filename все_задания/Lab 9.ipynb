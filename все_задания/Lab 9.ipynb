{
 "metadata": {
  "language_info": {
   "codemirror_mode": {
    "name": "ipython",
    "version": 3
   },
   "file_extension": ".py",
   "mimetype": "text/x-python",
   "name": "python",
   "nbconvert_exporter": "python",
   "pygments_lexer": "ipython3",
   "version": "3.8.3-final"
  },
  "orig_nbformat": 2,
  "kernelspec": {
   "name": "Python 3.8.3 64-bit ('base': conda)",
   "display_name": "Python 3.8.3 64-bit ('base': conda)",
   "metadata": {
    "interpreter": {
     "hash": "07efdcd4b820c98a756949507a4d29d7862823915ec7477944641bea022f4f62"
    }
   }
  }
 },
 "nbformat": 4,
 "nbformat_minor": 2,
 "cells": [
  {
   "source": [
    "## Задание\n",
    "Будем парсить страницу со свежеми новостям на habr.com/ru/all/.\n",
    "\n",
    "Вам необходимо собирать только те статьи, в которых встречается хотя бы одно требуемое ключевое слово. Эти слова определяем в начале кода в переменной, например:\n",
    "\n",
    "KEYWORDS = \\['python', 'парсинг'\\]\n",
    "\n",
    "Поиск вести по всей доступной preview-информации (это информация, доступная непосредственно с текущей страницы).\n",
    "\n",
    "В итоге должен формироваться датафрейм вида: <дата> - <заголовок> - <ссылка>\n",
    "\n",
    "Дополнительная часть (необязательная)\n",
    "Улучшить скрипт так, чтобы он анализировал не только preview-информацию статьи, но и весь текст статьи целиком.\n",
    "\n",
    "Для этого потребуется получать страницы статей и искать по тексту внутри этой страницы.\n",
    "\n",
    "Итоговый датафрейм формировать со столбцами: <дата> - <заголовок> - <ссылка> - <текст_статьи>"
   ],
   "cell_type": "markdown",
   "metadata": {}
  },
  {
   "cell_type": "code",
   "execution_count": 1,
   "metadata": {},
   "outputs": [],
   "source": [
    "import requests\n",
    "import pandas\n",
    "from bs4 import BeautifulSoup\n",
    "\n",
    "KEYWORDS = ['python', 'парсинг']\n",
    "url = 'https://habr.com/ru/all/'"
   ]
  },
  {
   "cell_type": "code",
   "execution_count": 2,
   "metadata": {},
   "outputs": [],
   "source": [
    "def checkTag(tags):\n",
    "    for keyword in KEYWORDS:\n",
    "        if(keyword.lower() not in tags and keyword != KEYWORDS[-1]):\n",
    "            return False\n",
    "    return True"
   ]
  },
  {
   "cell_type": "code",
   "execution_count": 25,
   "metadata": {},
   "outputs": [
    {
     "output_type": "stream",
     "name": "stdout",
     "text": [
      "Corrupted data on  page3\nCan't read  https://habr.com/ru/company/otus/blog/525292/\n"
     ]
    },
    {
     "output_type": "execute_result",
     "data": {
      "text/plain": [
       "              time                                              title  \\\n",
       "0  сегодня в 11:29                  Пишем бот для пазл игры на Python   \n",
       "0    вчера в 18:48  Реализуем и сравниваем оптимизаторы моделей в ...   \n",
       "\n",
       "                                                text  \\\n",
       "0  Давно хотел попробовать свои силы в компьютерн...   \n",
       "0  Реализуем и сравниваем 4 популярных оптимизато...   \n",
       "\n",
       "                                                link  \n",
       "0                   https://habr.com/ru/post/525380/  \n",
       "0  https://habr.com/ru/company/skillfactory/blog/...  "
      ],
      "text/html": "<div>\n<style scoped>\n    .dataframe tbody tr th:only-of-type {\n        vertical-align: middle;\n    }\n\n    .dataframe tbody tr th {\n        vertical-align: top;\n    }\n\n    .dataframe thead th {\n        text-align: right;\n    }\n</style>\n<table border=\"1\" class=\"dataframe\">\n  <thead>\n    <tr style=\"text-align: right;\">\n      <th></th>\n      <th>time</th>\n      <th>title</th>\n      <th>text</th>\n      <th>link</th>\n    </tr>\n  </thead>\n  <tbody>\n    <tr>\n      <th>0</th>\n      <td>сегодня в 11:29</td>\n      <td>Пишем бот для пазл игры на Python</td>\n      <td>Давно хотел попробовать свои силы в компьютерн...</td>\n      <td>https://habr.com/ru/post/525380/</td>\n    </tr>\n    <tr>\n      <th>0</th>\n      <td>вчера в 18:48</td>\n      <td>Реализуем и сравниваем оптимизаторы моделей в ...</td>\n      <td>Реализуем и сравниваем 4 популярных оптимизато...</td>\n      <td>https://habr.com/ru/company/skillfactory/blog/...</td>\n    </tr>\n  </tbody>\n</table>\n</div>"
     },
     "metadata": {},
     "execution_count": 25
    }
   ],
   "source": [
    "import time\n",
    "def getAllInfo(url, query, pages):\n",
    "    habrPosts = pandas.DataFrame()\n",
    "    \n",
    "    for i in range(pages):\n",
    "        page = 'page' + str(i + 1)\n",
    "        hubrPage = requests.get(url+page)\n",
    "        if (hubrPage.status_code != 200):\n",
    "            print('Something Wrong in Web Site')\n",
    "            break\n",
    "        #time.sleep(0.3) #Ругается UnboundLocalError: local variable 'time' referenced before assignment\n",
    "        soup = BeautifulSoup(hubrPage.text, 'html.parser')\n",
    "        blogs = soup.find_all('article', class_='post post_preview')\n",
    "        for blog in blogs:\n",
    "            tags = []\n",
    "            for listTags in blog.find('ul').find_all('a'):\n",
    "                tags.append(listTags.text.lower())\n",
    "\n",
    "            if(not checkTag(tags)):\n",
    "                continue\n",
    "            try:\n",
    "                title = blog.find('a', class_='post__title_link').text\n",
    "                link = blog.find('a', class_='post__title_link').get('href')\n",
    "                text = blog.find('div', class_='post__text post__text-html post__text_v1').text.strip()\n",
    "                time = blog.find('span', class_='post__time').text\n",
    "            except AttributeError:\n",
    "                print('Corrupted data on ',page)\n",
    "                print(\"Can't read \",link) \n",
    "                break\n",
    "                \n",
    "            info = [time, title, text, link]\n",
    "            row = {'time': info[0], 'title': info[1], 'text': info[2], 'link': info[3]}\n",
    "            habrPosts = pandas.concat([habrPosts, pandas.DataFrame([row])]) \n",
    "                 \n",
    "    return habrPosts\n",
    "\n",
    "all_links = getAllInfo(url, KEYWORDS, 5)\n",
    "all_links"
   ]
  }
 ]
}