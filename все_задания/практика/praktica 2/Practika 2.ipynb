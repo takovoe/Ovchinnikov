{
 "cells": [
  {
   "cell_type": "markdown",
   "metadata": {},
   "source": [
    "# Домашнее задание\n",
    "1. Переведите содержимое файла purchase_log.txt в словарь purchases вида:\n",
    "```python\n",
    "{'1840e0b9d4': 'Продукты', ...}\n",
    "```\n",
    "\n",
    "2. Для каждого user_id в файле visit_log.csv определите третий столбец с категорией покупки (если покупка была, сам файл visit_log.csv изменять не надо). Запишите в файл funnel.csv визиты из файла visit_log.csv, в которых были покупки с указанием категории.\n",
    "\n",
    "Учтите условия на данные:\n",
    "- содержимое purchase_log.txt помещается в оперативную память компьютера\n",
    "- содержимое visit_log.csv - нет; используйте только построчную обработку этого файла"
   ]
  },
  {
   "cell_type": "markdown",
   "metadata": {},
   "source": [
    "## 1 задание"
   ]
  },
  {
   "cell_type": "code",
   "execution_count": null,
   "metadata": {},
   "outputs": [],
   "source": [
    "import json\n",
    "deleteSubStr = lambda string, usellesStr: string.replace(usellesStr, '')"
   ]
  },
  {
   "cell_type": "code",
   "execution_count": null,
   "metadata": {
    "tags": []
   },
   "outputs": [],
   "source": [
    "purchases = {}\n",
    "\n",
    "with open('purchase_log.txt', encoding = 'UTF-8') as purchaseFile:\n",
    "    purchaseFile.readline()\n",
    "    for lineFile in purchaseFile:\n",
    "        line = deleteSubStr(lineFile,'\"user_id\":')\n",
    "        line = deleteSubStr(line,'\"category\":')\n",
    "        line = line.replace(',', ':')\n",
    "        purchases.update(json.loads(line.strip()))\n",
    "\n",
    "for i, purchase in enumerate(purchases.items()):\n",
    "    print(purchase)\n",
    "    if i > 5:\n",
    "        break"
   ]
  },
  {
   "source": [
    "## 2 задание\n",
    "\n",
    "Для каждого user_id в файле visit_log.csv определите третий столбец с категорией покупки (если покупка была, сам файл visit_log.csv изменять не надо). Запишите в файл funnel.csv визиты из файла visit_log.csv, в которых были покупки с указанием категории."
   ],
   "cell_type": "markdown",
   "metadata": {}
  },
  {
   "cell_type": "code",
   "execution_count": null,
   "metadata": {},
   "outputs": [],
   "source": [
    "personPurchases = {}"
   ]
  },
  {
   "cell_type": "code",
   "execution_count": null,
   "metadata": {
    "tags": []
   },
   "outputs": [],
   "source": [
    "with open('visit_log.csv') as visitLogFile:\n",
    "    visitLogFile.readline()\n",
    "    for lineFile in visitLogFile:\n",
    "        values = lineFile.split(',')\n",
    "\n",
    "        if values[1] == 'None':\n",
    "            continue\n",
    "\n",
    "        if values[0] in purchases.keys():\n",
    "            key = values[0]\n",
    "            valueToPurchases = [purchases[key], values[1].strip()]\n",
    "            personPurchases.update({key: valueToPurchases})"
   ]
  },
  {
   "cell_type": "code",
   "execution_count": null,
   "metadata": {
    "tags": []
   },
   "outputs": [],
   "source": [
    "for i, purchase in enumerate(personPurchases.items()):\n",
    "    print(purchase)\n",
    "    if i > 1:\n",
    "        break"
   ]
  },
  {
   "cell_type": "code",
   "execution_count": 68,
   "metadata": {
    "tags": []
   },
   "outputs": [],
   "source": [
    "with open('funnel.csv', 'w', encoding = 'UTF-8') as funnelFile:\n",
    "    funnelFile.write('user_id,category,source\\n')\n",
    "    for key, value in personPurchases.items():\n",
    "        funnelFile.write(f'{key},{value[0]},{value[1]}\\n')"
   ]
  }
 ],
 "metadata": {
  "kernelspec": {
   "display_name": "Python 3.8.3 64-bit ('base': conda)",
   "language": "python",
   "name": "python_defaultSpec_1600920425614"
  },
  "language_info": {
   "codemirror_mode": {
    "name": "ipython",
    "version": 3
   },
   "file_extension": ".py",
   "mimetype": "text/x-python",
   "name": "python",
   "nbconvert_exporter": "python",
   "pygments_lexer": "ipython3",
   "version": "3.8.3-final"
  }
 },
 "nbformat": 4,
 "nbformat_minor": 2
}