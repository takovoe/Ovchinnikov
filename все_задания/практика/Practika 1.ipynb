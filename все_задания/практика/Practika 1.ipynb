{
 "cells": [
  {
   "cell_type": "markdown",
   "metadata": {},
   "source": [
    "Вы работаете секретарем и вам постоянно приходят различные документы. Вы должны быть очень внимательны, чтобы не потерять ни один документ. Каталог документов хранится в следующем виде:"
   ]
  },
  {
   "cell_type": "code",
   "execution_count": 23,
   "metadata": {},
   "outputs": [],
   "source": [
    "documents = [\n",
    "    {'type': 'passport', 'number': '2207 876234', 'name': 'Василий Гупкин'},\n",
    "    {'type': 'invoice', 'number': '11-2', 'name': 'Геннадий Покемонов'},\n",
    "    {'type': 'insurance', 'number': '10006', 'name': 'Аристарх Павлов'}\n",
    "]"
   ]
  },
  {
   "cell_type": "code",
   "execution_count": 2,
   "metadata": {},
   "outputs": [],
   "source": [
    "def print_documents(documents):\n",
    "    for doc in documents:\n",
    "        print(doc)"
   ]
  },
  {
   "cell_type": "markdown",
   "metadata": {},
   "source": [
    "Перечень полок, на которых находятся документы хранится в следующем виде:"
   ]
  },
  {
   "cell_type": "code",
   "execution_count": 22,
   "metadata": {},
   "outputs": [],
   "source": [
    "directories = {\n",
    "    '1': ['2207 876234', '11-2'],\n",
    "    '2': ['10006'],\n",
    "    '3': []\n",
    "}"
   ]
  },
  {
   "cell_type": "code",
   "execution_count": 4,
   "metadata": {},
   "outputs": [],
   "source": [
    "def print_directories(directories):\n",
    "    for key,value in directories.items():\n",
    "        print(key,value)"
   ]
  },
  {
   "cell_type": "code",
   "execution_count": 5,
   "metadata": {},
   "outputs": [],
   "source": [
    "def searchNumDocInDoc(numDoc):\n",
    "    for smallDic in documents:\n",
    "        if str(numDoc) in smallDic['number']:\n",
    "            return smallDic['name']\n",
    "    return None"
   ]
  },
  {
   "cell_type": "code",
   "execution_count": 6,
   "metadata": {},
   "outputs": [],
   "source": [
    "def searchNumDocInDirect(numDoc):\n",
    "    for smallDirect in directories.items():\n",
    "        if str(numDoc) in smallDirect[1]:\n",
    "            return smallDirect[0]\n",
    "    return None"
   ]
  },
  {
   "cell_type": "code",
   "execution_count": 7,
   "metadata": {},
   "outputs": [],
   "source": [
    "def searchPeopleByDoc(numDoc): #p – people \n",
    "    resultSearch = searchNumDocInDoc(numDoc)\n",
    "    if resultSearch == None:\n",
    "        return 'Нету такого Документа или Человека'\n",
    "    else:\n",
    "        return resultSearch\n",
    "    \n",
    "#print(searchPeopleByDoc(10006))"
   ]
  },
  {
   "cell_type": "code",
   "execution_count": 8,
   "metadata": {},
   "outputs": [],
   "source": [
    "def searchShelfByDoc(numDoc): #s – shelf\n",
    "    resultSearch = searchNumDocInDirect(numDoc)\n",
    "    if resultSearch == None:\n",
    "        return 'Нету такого Документа или Полки'\n",
    "    else:\n",
    "        return resultSearch\n",
    "    \n",
    "#print(searchShelfByDoc())"
   ]
  },
  {
   "cell_type": "code",
   "execution_count": 9,
   "metadata": {},
   "outputs": [],
   "source": [
    "def outListAll(): #l-list\n",
    "    outSring = ''\n",
    "    valuesArr = [(value['type'], value['number'], value['name']) for value in documents]\n",
    "    for value in valuesArr:\n",
    "        outSring += f'{value[0]} \"{value[1]}\" \"{value[2]}\"\\n'\n",
    "    return outSring\n",
    "\n",
    "#print(outList())"
   ]
  },
  {
   "cell_type": "code",
   "execution_count": 10,
   "metadata": {},
   "outputs": [],
   "source": [
    "def checkKey(newKey):\n",
    "    for key in directories:\n",
    "        if key == str(newKey):\n",
    "            return False\n",
    "    return True"
   ]
  },
  {
   "cell_type": "code",
   "execution_count": 11,
   "metadata": {},
   "outputs": [],
   "source": [
    "def addShelf(newKey): #as – add shelf\n",
    "    if checkKey(str(newKey)):\n",
    "        directories[newKey] = ''\n",
    "        return 'Операция выполнена'\n",
    "    else:\n",
    "        return 'Введенная полка уже существует'"
   ]
  },
  {
   "cell_type": "code",
   "execution_count": 20,
   "metadata": {},
   "outputs": [],
   "source": [
    "def delDoc(numDoc): #d – delete\n",
    "    for numDic, doc in enumerate(documents):\n",
    "        if str(numDoc) == doc['number']:\n",
    "            del documents[numDic]\n",
    "            break\n",
    "    else:\n",
    "        return 'Такого документа нет'\n",
    "    \n",
    "    for valuesNumDoc in directories.values():\n",
    "        if str(numDoc) in valuesNumDoc:\n",
    "            valuesNumDoc.remove(str(numDoc))\n",
    "            \n",
    "    return 'Документ удален'\n",
    "\n",
    "#print(delDoc('10006'))"
   ]
  },
  {
   "cell_type": "code",
   "execution_count": 13,
   "metadata": {},
   "outputs": [],
   "source": [
    "def checkShelf(numShelf):\n",
    "    if numShelf not in directories:\n",
    "        return True\n",
    "    return False"
   ]
  },
  {
   "cell_type": "code",
   "execution_count": 14,
   "metadata": {},
   "outputs": [],
   "source": [
    "def moveDocInShelf(numDoc,numShelf): #m - move\n",
    "    if checkShelf(numShelf):\n",
    "        return 'Такой полки нет'\n",
    "    for key, value in directories.items():\n",
    "        if numDoc in value:\n",
    "            directories[numShelf] += [numDoc]\n",
    "            value.remove(numDoc)\n",
    "            return 'Документ перенесен'\n",
    "    return 'Документ не найден'"
   ]
  },
  {
   "cell_type": "code",
   "execution_count": 15,
   "metadata": {},
   "outputs": [],
   "source": [
    "def addDoc(numDoc, typeDoc, ownerName, numShelf):\n",
    "    if checkShelf(numShelf):\n",
    "        return 'Такой полки нет'\n",
    "    \n",
    "    newDoc = {'type': typeDoc, 'number': numDoc, 'name': ownerName}\n",
    "    documents.append(newDoc)\n",
    "    directories[numShelf] += [numDoc]\n",
    "    return 'Документ добавлен'"
   ]
  },
  {
   "cell_type": "code",
   "execution_count": 16,
   "metadata": {},
   "outputs": [],
   "source": [
    "tipMenu = ('p – people', 's – shelf', 'l – list',\n",
    "           'as – add shelf', 'd – delete', 'm – move','add', 'situation', 'q – quit', 'help')"
   ]
  },
  {
   "cell_type": "code",
   "execution_count": 17,
   "metadata": {},
   "outputs": [],
   "source": [
    "def situation(mode='all'):\n",
    "    if mode == 'documents': \n",
    "        print('Документы сейчас:')\n",
    "        print_documents(documents)\n",
    "    elif mode == 'directories':\n",
    "        print('Шкаф сейчас:')\n",
    "        print_directories(directories)\n",
    "    else:\n",
    "        print('Документы сейчас:')\n",
    "        print_documents(documents)\n",
    "        print('Шкаф сейчас:')\n",
    "        print_directories(directories)"
   ]
  },
  {
   "cell_type": "code",
   "execution_count": 18,
   "metadata": {},
   "outputs": [],
   "source": [
    "def menu():\n",
    "    while True:\n",
    "        userOut = input('Введите команду(просмотреть доступные команды - help)\\n')\n",
    "        if userOut == 'help':\n",
    "            print('//'.join(tipMenu[:-1]))\n",
    "        elif userOut.lower() in ('p','people'):\n",
    "            userDoc = input('Введите номер документа:\\n')\n",
    "            print(searchPeopleByDoc(userDoc))\n",
    "            \n",
    "        elif userOut.lower() in ('s','shelf'):\n",
    "            userDoc = input('Введите номер документа:\\n')\n",
    "            print(searchShelfByDoc(userDoc))\n",
    "            \n",
    "        elif userOut.lower() in ('l','list'):\n",
    "            print(outListAll())\n",
    "            \n",
    "        elif userOut.lower() in ('as ','add shelf'):\n",
    "            userShelf = input('Введите номер новой полки')\n",
    "            addShelf(userShelf)\n",
    "            situation('directories')\n",
    "        \n",
    "        elif userOut.lower() in ('d','delete'):\n",
    "            userDoc = input('Введите номер документа:\\n')\n",
    "            print(delDoc(userDoc))\n",
    "            situation()\n",
    "        \n",
    "        elif userOut.lower() in ('m','move'):\n",
    "            userDoc = input('Введите номер документа:\\n')\n",
    "            userShelf = input('Введите номер полки:\\n')\n",
    "            print(moveDocInShelf(userDoc, userShelf))\n",
    "            situation('directories')\n",
    "        \n",
    "        elif userOut.lower() == 'add':\n",
    "            userDoc = input('Введите номер документа:\\n')\n",
    "            userDocType = input('Введите тип документа:\\n')\n",
    "            userOwnerName = input('Введите имя владельца:\\n')\n",
    "            userShelf = input('Введите номер полки:\\n')\n",
    "            print(addDoc(userDoc, userDocType, userOwnerName, userShelf))\n",
    "            situation()\n",
    "            \n",
    "        elif userOut.lower() == 'situation':\n",
    "            situation()\n",
    "            \n",
    "        elif userOut.lower() in ('q','quit'):\n",
    "            break"
   ]
  },
  {
   "cell_type": "code",
   "execution_count": 24,
   "metadata": {},
   "outputs": [
    {
     "name": "stdout",
     "output_type": "stream",
     "text": [
      "Введите команду(просмотреть доступные команды - help)\n",
      "add\n",
      "Введите номер документа:\n",
      "228\n",
      "Введите тип документа:\n",
      "Joke\n",
      "Введите имя владельца:\n",
      "Clown\n",
      "Введите номер полки:\n",
      "3\n",
      "Документ добавлен\n",
      "Документы сейчас:\n",
      "{'type': 'passport', 'number': '2207 876234', 'name': 'Василий Гупкин'}\n",
      "{'type': 'invoice', 'number': '11-2', 'name': 'Геннадий Покемонов'}\n",
      "{'type': 'insurance', 'number': '10006', 'name': 'Аристарх Павлов'}\n",
      "{'type': 'Joke', 'number': '228', 'name': 'Clown'}\n",
      "Шкаф сейчас:\n",
      "1 ['2207 876234', '11-2']\n",
      "2 ['10006']\n",
      "3 ['228']\n",
      "Введите команду(просмотреть доступные команды - help)\n",
      "d\n",
      "Введите номер документа:\n",
      "228\n",
      "Документ удален\n",
      "Документы сейчас:\n",
      "{'type': 'passport', 'number': '2207 876234', 'name': 'Василий Гупкин'}\n",
      "{'type': 'invoice', 'number': '11-2', 'name': 'Геннадий Покемонов'}\n",
      "{'type': 'insurance', 'number': '10006', 'name': 'Аристарх Павлов'}\n",
      "Шкаф сейчас:\n",
      "1 ['2207 876234', '11-2']\n",
      "2 ['10006']\n",
      "3 []\n",
      "Введите команду(просмотреть доступные команды - help)\n",
      "l\n",
      "passport \"2207 876234\" \"Василий Гупкин\"\n",
      "invoice \"11-2\" \"Геннадий Покемонов\"\n",
      "insurance \"10006\" \"Аристарх Павлов\"\n",
      "\n",
      "Введите команду(просмотреть доступные команды - help)\n",
      "quit\n"
     ]
    }
   ],
   "source": [
    "menu()"
   ]
  },
  {
   "cell_type": "markdown",
   "metadata": {},
   "source": [
    "Необходимо реализовать пользовательские команды (внимание! это не название функций, которые должны быть выразительными, а команды, которые вводит пользователь, чтобы получить необходимый результат):\n",
    "\n",
    "* p – people – команда, которая спросит номер документа и выведет имя человека, которому он принадлежит; ✔\n",
    "* s – shelf – команда, которая спросит номер документа и выведет номер полки, на которой он находится \n",
    "Правильно обработайте ситуации, когда пользователь будет вводить несуществующий документ. ✔\n",
    "* l – list – команда, которая выведет список всех документов в формате\n",
    "**passport \"2207 876234\" \"Василий Гупкин\"** ✔\n",
    "* as – add shelf – команда, которая спросит номер новой полки и добавит ее в перечень. Предусмотрите случай, когда пользователь добавляет полку, которая уже существует.✔\n",
    "* d – delete – команда, которая спросит номер документа и удалит его из каталога и из перечня полок. Предусмотрите сценарий, когда пользователь вводит несуществующий документ;✔\n",
    "* m – move – команда, которая спросит номер документа и целевую полку и переместит его с текущей полки на целевую. Корректно обработайте кейсы, когда пользователь пытается переместить несуществующий документ или переместить документ на несуществующую полку;✔\n",
    "*  add – команда, которая добавит новый документ в каталог и в перечень полок, спросив его номер, тип, имя владельца и номер полки, на котором он будет храниться. Корректно обработайте ситуацию, когда пользователь будет пытаться добавить документ на несуществующую полку.✔"
   ]
  }
 ],
 "metadata": {
  "kernelspec": {
   "display_name": "Python 3",
   "language": "python",
   "name": "python3"
  },
  "language_info": {
   "codemirror_mode": {
    "name": "ipython",
    "version": 3
   },
   "file_extension": ".py",
   "mimetype": "text/x-python",
   "name": "python",
   "nbconvert_exporter": "python",
   "pygments_lexer": "ipython3",
   "version": "3.8.3"
  }
 },
 "nbformat": 4,
 "nbformat_minor": 4
}
